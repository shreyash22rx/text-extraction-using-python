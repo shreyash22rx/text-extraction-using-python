{
 "cells": [
  {
   "cell_type": "code",
   "execution_count": null,
   "id": "239954be",
   "metadata": {},
   "outputs": [],
   "source": [
    "#reading url"
   ]
  },
  {
   "cell_type": "code",
   "execution_count": 344,
   "id": "5488f7e7",
   "metadata": {},
   "outputs": [],
   "source": [
    "from goose3 import Goose\n",
    "\n",
    "url51 = \"https://insights.blackcoffer.com/future-of-work-how-ai-has-entered-the-workplace/\"\n",
    "url52 = \"https://insights.blackcoffer.com/ai-tool-alexa-google-assistant-finance-banking-tool-future/\"\n",
    "url53 = \"https://insights.blackcoffer.com/ai-healthcare-revolution-ml-technology-algorithm-google-analytics-industrialrevolution/\"\n",
    "url54 = \"https://insights.blackcoffer.com/all-you-need-to-know-about-online-marketing/\"\n",
    "url55 = \"https://insights.blackcoffer.com/evolution-of-advertising-industry/\"\n",
    "url56 = \"https://insights.blackcoffer.com/how-data-analytics-can-help-your-business-respond-to-the-impact-of-covid-19/\"\n",
    "url57 = \"https://insights.blackcoffer.com/covid-19-environmental-impact-for-the-future/\"\n",
    "url58 = \"https://insights.blackcoffer.com/environmental-impact-of-the-covid-19-pandemic-lesson-for-the-future/\"\n",
    "url59 = \"https://insights.blackcoffer.com/how-data-analytics-and-ai-are-used-to-halt-the-covid-19-pandemic/\"\n",
    "url60 = \"https://insights.blackcoffer.com/difference-between-artificial-intelligence-machine-learning-statistics-and-data-mining/\"\n",
    "url61 = \"https://insights.blackcoffer.com/how-python-became-the-first-choice-for-data-science/\"\n",
    "url62 = \"https://insights.blackcoffer.com/how-google-fit-measure-heart-and-respiratory-rates-using-a-phone/\"\n",
    "url63 = \"https://insights.blackcoffer.com/what-is-the-future-of-mobile-apps/\"\n",
    "url64 = \"https://insights.blackcoffer.com/impact-of-ai-in-health-and-medicine/\"\n",
    "url65 = \"https://insights.blackcoffer.com/telemedicine-what-patients-like-and-dislike-about-it/\"\n",
    "url66 = \"https://insights.blackcoffer.com/how-we-forecast-future-technologies/\"\n",
    "url67 = \"https://insights.blackcoffer.com/can-robots-tackle-late-life-loneliness/\"\n",
    "url68 = \"https://insights.blackcoffer.com/embedding-care-robots-into-society-socio-technical-considerations/\"\n",
    "url69 = \"https://insights.blackcoffer.com/management-challenges-for-future-digitalization-of-healthcare-services/\"\n",
    "url70 = \"https://insights.blackcoffer.com/are-we-any-closer-to-preventing-a-nuclear-holocaust/\"\n",
    "url71 = \"https://insights.blackcoffer.com/will-technology-eliminate-the-need-for-animal-testing-in-drug-development/\"\n",
    "url72 = \"https://insights.blackcoffer.com/will-we-ever-understand-the-nature-of-consciousness/\"\n",
    "url73 = \"https://insights.blackcoffer.com/will-we-ever-colonize-outer-space/\"\n",
    "url74 = \"https://insights.blackcoffer.com/what-is-the-chance-homo-sapiens-will-survive-for-the-next-500-years/\"\n",
    "url75 = \"https://insights.blackcoffer.com/why-does-your-business-need-a-chatbot/\"\n",
    "url76 = \"https://insights.blackcoffer.com/how-you-lead-a-project-or-a-team-without-any-technical-expertise/\"\n",
    "url77 = \"https://insights.blackcoffer.com/can-you-be-great-leader-without-technical-expertise/\"\n",
    "url78 = \"https://insights.blackcoffer.com/how-does-artificial-intelligence-affect-the-environment/\"\n",
    "url79 = \"https://insights.blackcoffer.com/how-to-overcome-your-fear-of-making-mistakes-2/\"\n",
    "url80 = \"https://insights.blackcoffer.com/is-perfection-the-greatest-enemy-of-productivity/\"\n",
    "url81 = \"https://insights.blackcoffer.com/global-financial-crisis-2008-causes-effects-and-its-solution/\"\n",
    "url82 = \"https://insights.blackcoffer.com/gender-diversity-and-equality-in-the-tech-industry/\"\n",
    "url83 = \"https://insights.blackcoffer.com/how-to-overcome-your-fear-of-making-mistakes/\"\n",
    "url84 = \"https://insights.blackcoffer.com/how-small-business-can-survive-the-coronavirus-crisis/\"\n",
    "url85 = \"https://insights.blackcoffer.com/impacts-of-covid-19-on-vegetable-vendors-and-food-stalls/\"\n",
    "url86 = \"https://insights.blackcoffer.com/impacts-of-covid-19-on-vegetable-vendors/\"\n",
    "url87 = \"https://insights.blackcoffer.com/impact-of-covid-19-pandemic-on-tourism-aviation-industries/\"\n",
    "url88 = \"https://insights.blackcoffer.com/impact-of-covid-19-pandemic-on-sports-events-around-the-world/\"\n",
    "url89 = \"https://insights.blackcoffer.com/changing-landscape-and-emerging-trends-in-the-indian-it-ites-industry/\"\n",
    "url90 = \"https://insights.blackcoffer.com/online-gaming-adolescent-online-gaming-effects-demotivated-depression-musculoskeletal-and-psychosomatic-symptoms/\"\n",
    "url91 = \"https://insights.blackcoffer.com/human-rights-outlook/\"\n",
    "url92 = \"https://insights.blackcoffer.com/how-voice-search-makes-your-business-a-successful-business/\"\n",
    "url93 = \"https://insights.blackcoffer.com/how-the-covid-19-crisis-is-redefining-jobs-and-services/\"\n",
    "url94 = \"https://insights.blackcoffer.com/how-to-increase-social-media-engagement-for-marketers/\"\n",
    "url95 = \"https://insights.blackcoffer.com/impacts-of-covid-19-on-streets-sides-food-stalls/\"\n",
    "url96 = \"https://insights.blackcoffer.com/coronavirus-impact-on-energy-markets-2/\"\n",
    "url97 = \"https://insights.blackcoffer.com/coronavirus-impact-on-the-hospitality-industry-5/\"\n",
    "url98 = \"https://insights.blackcoffer.com/lessons-from-the-past-some-key-learnings-relevant-to-the-coronavirus-crisis-4/\"\n",
    "url99 = \"https://insights.blackcoffer.com/estimating-the-impact-of-covid-19-on-the-world-of-work-2/\"\n",
    "url100 = \"https://insights.blackcoffer.com/estimating-the-impact-of-covid-19-on-the-world-of-work-3/\"\n",
    "url101 = \"https://insights.blackcoffer.com/travel-and-tourism-outlook/\"\n",
    "url102 = \"https://insights.blackcoffer.com/gaming-disorder-and-effects-of-gaming-on-health/\"\n",
    "url103 = \"https://insights.blackcoffer.com/what-is-the-repercussion-of-the-environment-due-to-the-covid-19-pandemic-situation/\"\n",
    "url104 = \"https://insights.blackcoffer.com/what-is-the-repercussion-of-the-environment-due-to-the-covid-19-pandemic-situation-2/\"\n",
    "url105 = \"https://insights.blackcoffer.com/impact-of-covid-19-pandemic-on-office-space-and-co-working-industries/\"\n",
    "url106 = \"https://insights.blackcoffer.com/contribution-of-handicrafts-visual-arts-literature-in-the-indian-economy/\"\n",
    "url107 = \"https://insights.blackcoffer.com/how-covid-19-is-impacting-payment-preferences/\"\n",
    "url108 = \"https://insights.blackcoffer.com/how-will-covid-19-affect-the-world-of-work-2/\"\n",
    "url109 = \"https://insights.blackcoffer.com/lessons-from-the-past-some-key-learnings-relevant-to-the-coronavirus-crisis/\"\n",
    "url110 = \"https://insights.blackcoffer.com/covid-19-how-have-countries-been-responding/\"\n",
    "url111 = \"https://insights.blackcoffer.com/coronavirus-impact-on-the-hospitality-industry-2/\"\n",
    "url112 = \"https://insights.blackcoffer.com/how-will-covid-19-affect-the-world-of-work-3/\"\n",
    "url113 = \"https://insights.blackcoffer.com/coronavirus-impact-on-the-hospitality-industry-3/\"\n",
    "url114 = \"https://insights.blackcoffer.com/estimating-the-impact-of-covid-19-on-the-world-of-work/\"\n",
    "url115 = \"https://insights.blackcoffer.com/covid-19-how-have-countries-been-responding-2/\"\n",
    "url116 = \"https://insights.blackcoffer.com/how-will-covid-19-affect-the-world-of-work-4/\"\n",
    "url117 = \"https://insights.blackcoffer.com/lessons-from-the-past-some-key-learnings-relevant-to-the-coronavirus-crisis-2/\"\n",
    "url118 = \"https://insights.blackcoffer.com/lessons-from-the-past-some-key-learnings-relevant-to-the-coronavirus-crisis-3/\"\n",
    "url119 = \"https://insights.blackcoffer.com/coronavirus-impact-on-the-hospitality-industry-4/\"\n",
    "url120 = \"https://insights.blackcoffer.com/why-scams-like-nirav-modi-happen-with-indian-banks/\"\n",
    "url121 = \"https://insights.blackcoffer.com/impact-of-covid-19-on-the-global-economy/\"\n",
    "url122 = \"https://insights.blackcoffer.com/impact-of-covid-19coronavirus-on-the-indian-economy-2/\"\n",
    "url123 = \"https://insights.blackcoffer.com/impact-of-covid-19-on-the-global-economy-2/\"\n",
    "url124 = \"https://insights.blackcoffer.com/impact-of-covid-19-coronavirus-on-the-indian-economy-3/\"\n",
    "url125 = \"https://insights.blackcoffer.com/should-celebrities-be-allowed-to-join-politics/\"\n",
    "url126 = \"https://insights.blackcoffer.com/how-prepared-is-india-to-tackle-a-possible-covid-19-outbreak/\"\n",
    "url127 = \"https://insights.blackcoffer.com/how-will-covid-19-affect-the-world-of-work/\"\n",
    "url128 = \"https://insights.blackcoffer.com/controversy-as-a-marketing-strategy/\"\n",
    "url129 = \"https://insights.blackcoffer.com/coronavirus-impact-on-the-hospitality-industry/\"\n",
    "url130 = \"https://insights.blackcoffer.com/coronavirus-impact-on-energy-markets/\"\n",
    "url131 = \"https://insights.blackcoffer.com/what-are-the-key-policies-that-will-mitigate-the-impacts-of-covid-19-on-the-world-of-work/\"\n",
    "url132 = \"https://insights.blackcoffer.com/marketing-drives-results-with-a-focus-on-problems/\"\n",
    "url133 = \"https://insights.blackcoffer.com/continued-demand-for-sustainability/\"\n",
    "url134 = \"https://insights.blackcoffer.com/coronavirus-disease-covid-19-effect-the-impact-and-role-of-mass-media-during-the-pandemic/\"\n",
    "url135 = \"https://insights.blackcoffer.com/should-people-wear-fabric-gloves-seeking-evidence-regarding-the-differential-transfer-of-covid-19-or-coronaviruses-generally-between-surfaces/\"\n",
    "url136 = \"https://insights.blackcoffer.com/why-is-there-a-severe-immunological-and-inflammatory-explosion-in-those-affected-by-sarms-covid-19/\"\n",
    "url137 = \"https://insights.blackcoffer.com/what-do-you-think-is-the-lesson-or-lessons-to-be-learned-with-covid-19/\"\n",
    "url138 = \"https://insights.blackcoffer.com/coronavirus-the-unexpected-challenge-for-the-european-union/\"\n",
    "url139 = \"https://insights.blackcoffer.com/industrial-revolution-4-0-pros-and-cons/\"\n",
    "url140 = \"https://insights.blackcoffer.com/impact-of-covid-19-coronavirus-on-the-indian-economy/\"\n",
    "url141 = \"https://insights.blackcoffer.com/impact-of-covid-19-coronavirus-on-the-indian-economy-2/\"\n",
    "url142 = \"https://insights.blackcoffer.com/impact-of-covid-19coronavirus-on-the-indian-economy/\"\n",
    "url143 = \"https://insights.blackcoffer.com/impact-of-covid-19-coronavirus-on-the-global-economy/\"\n",
    "url144 = \"https://insights.blackcoffer.com/ensuring-growth-through-insurance-technology/\"\n",
    "url145 = \"https://insights.blackcoffer.com/blockchain-in-fintech/\"\n",
    "url146 = \"https://insights.blackcoffer.com/blockchain-for-payments/\"\n",
    "url147 = \"https://insights.blackcoffer.com/the-future-of-investing/\"\n",
    "url148 = \"https://insights.blackcoffer.com/big-data-analytics-in-healthcare/\"\n",
    "url149 = \"https://insights.blackcoffer.com/business-analytics-in-the-healthcare-industry/\"\n",
    "url150 = \"https://insights.blackcoffer.com/challenges-and-opportunities-of-big-data-in-healthcare/\"\n",
    "\n",
    "goose = Goose()\n",
    "article = goose.extract(url150)\n"
   ]
  },
  {
   "cell_type": "code",
   "execution_count": 345,
   "id": "61207be8",
   "metadata": {},
   "outputs": [
    {
     "data": {
      "text/plain": [
       "'Challenges and Opportunities of Big Data in Healthcare'"
      ]
     },
     "execution_count": 345,
     "metadata": {},
     "output_type": "execute_result"
    }
   ],
   "source": [
    "#reading title\n",
    "\n",
    "article.title"
   ]
  },
  {
   "cell_type": "code",
   "execution_count": 346,
   "id": "bc64216c",
   "metadata": {
    "scrolled": false
   },
   "outputs": [
    {
     "data": {
      "text/plain": [
       "'To begin with I shall first like to explain what big data is and why it has become so important in our lives. Big data is simply data, but with a huge size. Data that is not just voluminous but also growing exponentially with time. Such data sets are so large and complex that it is not possible to store or process them using traditional data management tools. So, how huge can this data be? Social media sites like Facebook generate more than 500 terabytes of new data every day in the form of photos, video uploads, text messages, etc. A single Jet engine can generate more than 10 terabytes of data in 30 minutes of flight time. With many thousand flights per day, generation of data reaches up to many petabytes. Data contained in these sets are not always structured. It can be semi-structured or even unstructured. When such is the size and dimension of data we can well imagine how complicated it must be to process and analyze it. Therefore, modern methods of data analysis are being developed and used to process the information contained in big data sets.  Now coming to the opportunities that Big Data provides, they are not just limited to healthcare. Big data analysis is now a disruptive technology which has intervened into numerous fields and proved its worth. Healthcare is no exception. Big data has the potential to change the entire dynamics of the healthcare industry and improve the quality of life of people. Healthcare industry is a very large and complicated system. It involves a lot of risks and always demands better care. However, when a large number of patients seek emergency care the complications as well as the cost rise exponentially. In India, many times, we even lack sufficient infrastructure to support the patients, there is a deficit of beds as well as doctors to provide treatment to the patients. For instance, when epidemics break out and lives are lost at a very alarming rate, we can easily gauge our helplessness. However, the scenario is certainly improving now. With the advent of digitization into the healthcare system, healthcare providers or practitioners are now having access to a huge amount of patient health data. This healthcare big data can be processed and analyzed to identify patient patterns more quickly and effectively. The information obtained can be extremely useful to figure out chronic health issues and provide preventive treatment plans well beforehand so as to curb that disease or disorder from occurring. This method is also known as predictive analysis and it is one of the most crucial benefits of big data in healthcare. This technology can help the healthcare industry in more ways than we can infer. Healthcare organizations that have implemented predictive analysis have witnessed a reduction in ER visits by providing support and care to patients and decreasing emergency situations.  Apart from reduced ER visits and timely treatment, there are many other benefits of big data and predictive analysis. Patients with high-risk life-threatening issues can be provided with more customized treatment facilities. Due to lack of data, there exists a lack of proper planning in hospitals. Under or over-booking of staff, lack of medical equipment, medicines, and other facilities are a result of inefficient budgeting and ill-management of finances. Using predictive analysis these problems can be solved which will lead to reduced costs and efficient management of finances. Better staff allocation and admission rate prediction shall facilitate improvement in daily operations of healthcare organizations. By using big data the effect of recency bias could be reduced as well. When we give more importance to recent events and tend to ignore the effect of the older ones, it may lead to incorrect decisions. This is known as recency bias. Big data also helps in preventing fraudulent activities which in turn prevents losses of insurance companies.  While all of this is changing the healthcare industry for the better, it is not that easy to reap the benefits of big data. There are a whole lot of challenges and vulnerabilities attached to its implementation. One of the biggest challenges is security. Healthcare big data contains the personal information and health history of patients. Acts of hacking, cyber theft and phishing pose a serious threat to these databases. Such data could be stolen and sold for huge sums of money. Protection of the patients’ privacy hence is a serious challenge to big data implementation. Also, the data would contain external data apart from medical information. The organization, therefore, has to take care of privacy, legal compliances, and government policies. Privacy and security of patients have to be given utmost importance and no breach of any kind can be permitted.  The next challenge is data classification and modeling. The size of the data is massive and it is less structured and heterogeneous. Classifying such massive data to identify relevant information is a big challenge. Modeling of such unstructured data is equally difficult.  Storage and retrieval is another major challenge. Huge cloud servers with sufficient space are required to store such voluminous data. Also, the speed should be high so that uploading of data can be done hassle-free. The way storage is a challenge, retrieval also is a matter of concern. Integrating the data and getting all relevant systems to link each other is a tough job.  The next challenge is a major one in my opinion. Finding the right talent who own the expertise to implement this modern technology is an arduous task. Shortage of required talent is a crisis in the market today. Even after hiring the right talent it is a challenge to retain them. Scarce resources like data scientists are hard to find and even harder to retain. They are easily poached by competitors. A good and efficient compensation strategy, conducive work environment, high incentives, opportunities for career growth and development can be some of the ways of retaining such intellectual talent.  In a nutshell, we can conclude that while big data is a disruptive technology which will bring about landmark changes in healthcare dynamics, the challenges and vulnerabilities need to be addressed with the utmost care and sense of responsibility.'"
      ]
     },
     "execution_count": 346,
     "metadata": {},
     "output_type": "execute_result"
    }
   ],
   "source": [
    "#reading cleaned text and adding blank spaces\n",
    "article.cleaned_text.replace('\\n', \" \")"
   ]
  },
  {
   "cell_type": "code",
   "execution_count": null,
   "id": "d86ba46b",
   "metadata": {},
   "outputs": [],
   "source": []
  },
  {
   "cell_type": "code",
   "execution_count": null,
   "id": "15bcd075",
   "metadata": {},
   "outputs": [],
   "source": []
  }
 ],
 "metadata": {
  "kernelspec": {
   "display_name": "Python 3 (ipykernel)",
   "language": "python",
   "name": "python3"
  },
  "language_info": {
   "codemirror_mode": {
    "name": "ipython",
    "version": 3
   },
   "file_extension": ".py",
   "mimetype": "text/x-python",
   "name": "python",
   "nbconvert_exporter": "python",
   "pygments_lexer": "ipython3",
   "version": "3.9.13"
  }
 },
 "nbformat": 4,
 "nbformat_minor": 5
}
