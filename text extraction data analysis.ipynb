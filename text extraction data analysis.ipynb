{
 "cells": [
  {
   "cell_type": "code",
   "execution_count": 123,
   "id": "11779917",
   "metadata": {},
   "outputs": [
    {
     "name": "stdout",
     "output_type": "stream",
     "text": [
      "0.0\n",
      "1.0\n",
      "0.0\n",
      "0.0\n",
      "91.38095238095238\n",
      "0.3918707660239708\n",
      "36.70912925879054\n",
      "91.38095238095238\n",
      "752\n",
      "1919\n",
      "1.1427826993225638\n",
      "['i']\n",
      "8.276185513288171\n"
     ]
    }
   ],
   "source": [
    "from textblob import TextBlob\n",
    "import pyphen\n",
    "\n",
    "def text_analysis(text):\n",
    "    analysis = TextBlob(text)\n",
    "    dic = pyphen.Pyphen(lang='en_US')\n",
    "    \n",
    "    positive_score = analysis.sentiment.polarity\n",
    "    negative_score = 1 - positive_score\n",
    "    polarity_score = analysis.sentiment.polarity\n",
    "    subjectivity_score = analysis.sentiment.subjectivity\n",
    "    avg_sentence_length = sum([len(sentence.words) for sentence in analysis.sentences]) / len(analysis.sentences)\n",
    "    complex_words = [word for word in analysis.words if len(word) >= 7]\n",
    "    complex_word_count = len(complex_words)\n",
    "    word_count = len(analysis.words)\n",
    "    percentage_of_complex_words = complex_word_count / word_count\n",
    "    avg_word_length = sum([len(word) for word in analysis.words]) / word_count\n",
    "    personal_pronouns = [word for word in analysis.words if word in [\"i\", \"me\", \"my\", \"ours\", \"us\"]]\n",
    "    syllables_per_word = sum([len(dic.inserted(word).split(\"-\")) for word in analysis.words]) / word_count\n",
    "    fog_index = 0.4 * (avg_sentence_length + percentage_of_complex_words)\n",
    "    \n",
    "    print( positive_score)\n",
    "    print( negative_score)\n",
    "    print( polarity_score)\n",
    "    print( subjectivity_score)\n",
    "    print( avg_sentence_length)\n",
    "    print( percentage_of_complex_words)\n",
    "    print( fog_index)\n",
    "    print( avg_sentence_length)\n",
    "    print( complex_word_count)\n",
    "    print( word_count)\n",
    "    print( syllables_per_word)\n",
    "    print( personal_pronouns)\n",
    "    print( avg_word_length)\n",
    "    \n",
    "if __name__ == '__main__':\n",
    "    with open(\"/Users/apple/Desktop/blackcoffer/url_id - 150.docx\", \"r\", encoding=\"ISO-8859-1\") as f:\n",
    "        text = f.read()\n",
    "    text_analysis(text)\n"
   ]
  },
  {
   "cell_type": "code",
   "execution_count": null,
   "id": "b29a1b90",
   "metadata": {},
   "outputs": [],
   "source": []
  },
  {
   "cell_type": "code",
   "execution_count": null,
   "id": "7715fe9a",
   "metadata": {},
   "outputs": [],
   "source": []
  }
 ],
 "metadata": {
  "kernelspec": {
   "display_name": "Python 3 (ipykernel)",
   "language": "python",
   "name": "python3"
  },
  "language_info": {
   "codemirror_mode": {
    "name": "ipython",
    "version": 3
   },
   "file_extension": ".py",
   "mimetype": "text/x-python",
   "name": "python",
   "nbconvert_exporter": "python",
   "pygments_lexer": "ipython3",
   "version": "3.9.13"
  }
 },
 "nbformat": 4,
 "nbformat_minor": 5
}
